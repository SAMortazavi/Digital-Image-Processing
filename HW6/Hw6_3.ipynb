{
 "cells": [
  {
   "cell_type": "code",
   "execution_count": 8,
   "metadata": {},
   "outputs": [],
   "source": [
    "import numpy as np\n",
    "import matplotlib.pyplot as plt\n",
    "import cv2 as cv\n",
    "from time import sleep \n",
    "%matplotlib qt"
   ]
  },
  {
   "cell_type": "code",
   "execution_count": 9,
   "metadata": {},
   "outputs": [],
   "source": [
    "\n",
    "def regionGrow(img, seeds, thresh, diffType,label):\n",
    "    height, weight = img.shape\n",
    "    seedMark = np.zeros(img.shape)\n",
    "    seedList = []\n",
    "    steps = 1\n",
    "    seeds_grayscale = []\n",
    "    seeds_avg_grayscale = 0\n",
    "\n",
    "    for seed in seeds:\n",
    "        seedList.append(seed)\n",
    "        seeds_grayscale.append(img[seed[0], seed[1]])\n",
    "    seeds_avg_grayscale = np.average(seeds_grayscale)\n",
    "    \n",
    "    connects = [ (0, -1), (1, 0),(0, 1), (-1, 0)]\n",
    "    while(len(seedList)>0):\n",
    "        currentPoint = seedList.pop(0)\n",
    "        if diffType=='static':\n",
    "            seedMark[currentPoint[0], currentPoint[1]] = label\n",
    "        \n",
    "            for i in range(4):\n",
    "                tmpX = currentPoint[0] + connects[i][0]\n",
    "                tmpY = currentPoint[1] + connects[i][1]\n",
    "                if tmpX < 0 or tmpY < 0 or tmpX >= height or tmpY >= weight:\n",
    "                    continue\n",
    "\n",
    "                grayDiff = abs (img[tmpX, tmpY] - seeds_avg_grayscale)\n",
    "\n",
    "                if grayDiff < thresh and seedMark[tmpX,tmpY] == 0:\n",
    "                    seedMark[tmpX,tmpY] = label\n",
    "                    seedList.append((tmpX,tmpY))\n",
    "\n",
    "\n",
    "        if (diffType == \"dynamic\"):\n",
    "            seeds_grayscale.append(img[currentPoint[0], currentPoint[1]])\n",
    "            seeds_avg_grayscale = np.average(seeds_grayscale)\n",
    "        seedMark[currentPoint[0], currentPoint[1]] = label\n",
    "        \n",
    "        for i in range(4):\n",
    "            tmpX = currentPoint[0] + connects[i][0]\n",
    "            tmpY = currentPoint[1] + connects[i][1]\n",
    "            if tmpX < 0 or tmpY < 0 or tmpX >= height or tmpY >= weight:\n",
    "                continue\n",
    "\n",
    "            grayDiff = abs (img[tmpX, tmpY] - seeds_avg_grayscale)\n",
    "\n",
    "            if grayDiff < thresh and seedMark[tmpX,tmpY] == 0:\n",
    "                seedMark[tmpX,tmpY] = label\n",
    "                seedList.append((tmpX,tmpY))\n",
    "\n",
    "        steps +=1   \n",
    "\n",
    "\n",
    "    print (\"Number of steps: \", steps)\n",
    "    return seedMark"
   ]
  },
  {
   "cell_type": "code",
   "execution_count": 10,
   "metadata": {},
   "outputs": [
    {
     "name": "stdout",
     "output_type": "stream",
     "text": [
      "Number of steps:  100998\n",
      "Number of steps:  114339\n"
     ]
    }
   ],
   "source": [
    "MRI_img = cv.imread('Color_MRI.png', 0)\n",
    "white_seed_coor=[(385,344)]\n",
    "gray_seed_coor=[(190,467)]\n",
    "thresh_type = 'static'\n",
    "empty_img=np.zeros(MRI_img.shape)\n",
    "empty_img[(385,344)]=255\n",
    "empty_img[(190,467)]=100\n",
    "thresh_w = 70\n",
    "thresh_g = 30\n",
    "seedMark_white = np.uint8(regionGrow(MRI_img, white_seed_coor, thresh_w, thresh_type,255))\n",
    "seedMark_gray= np.uint8(regionGrow(MRI_img, gray_seed_coor, thresh_g, thresh_type,100))\n",
    "seedmark_final = np.uint8(seedMark_gray + seedMark_white)\n",
    "\n",
    "plt.figure('show seeds')\n",
    "plt.imshow(empty_img,'gray',vmin=0,vmax=255)\n",
    "plt.figure('show results')\n",
    "plt.subplot(1,2,1)\n",
    "plt.imshow(MRI_img,  cmap='gray', vmin = 0, vmax = 255)\n",
    "plt.title('original')\n",
    "plt.axis('off')\n",
    "plt.subplot(1,2,2)\n",
    "\n",
    "plt.imshow(seedmark_final,  cmap='gray', vmin = 0, vmax = 255)\n",
    "plt.axis('off')\n",
    "plt.title('after segmentation')\n",
    "plt.tight_layout()\n",
    "plt.show()\n",
    "\n"
   ]
  }
 ],
 "metadata": {
  "kernelspec": {
   "display_name": "Python 3",
   "language": "python",
   "name": "python3"
  },
  "language_info": {
   "codemirror_mode": {
    "name": "ipython",
    "version": 3
   },
   "file_extension": ".py",
   "mimetype": "text/x-python",
   "name": "python",
   "nbconvert_exporter": "python",
   "pygments_lexer": "ipython3",
   "version": "3.10.7 (tags/v3.10.7:6cc6b13, Sep  5 2022, 14:08:36) [MSC v.1933 64 bit (AMD64)]"
  },
  "orig_nbformat": 4,
  "vscode": {
   "interpreter": {
    "hash": "876db7d3f8682b7e4c5477e5f1e2dc2bd1b19fe05d9aabd59218369070754b39"
   }
  }
 },
 "nbformat": 4,
 "nbformat_minor": 2
}
