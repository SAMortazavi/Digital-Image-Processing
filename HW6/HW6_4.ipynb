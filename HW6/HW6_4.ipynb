{
 "cells": [
  {
   "cell_type": "code",
   "execution_count": 2,
   "metadata": {},
   "outputs": [],
   "source": [
    "import numpy as np\n",
    "import matplotlib.pyplot as plt\n",
    "import cv2 as cv\n",
    "from time import sleep\n",
    "%matplotlib qt \n"
   ]
  },
  {
   "cell_type": "code",
   "execution_count": 3,
   "metadata": {},
   "outputs": [],
   "source": [
    "def Event_Mouse(event, X_Corr, Y_Coor,flag,params) :\n",
    "\t# Left click mouse \n",
    "    if event == cv.EVENT_LBUTTONDOWN :\n",
    "    \t# Add seeds\n",
    "        seeds.append((Y_Coor, X_Corr)) \n",
    "        # Draw solid dots \n",
    "        cv.circle(Img_MRI, center = (X_Corr, Y_Coor), radius = 2,\n",
    "                  color = (0, 0, 255), thickness = -1)\n",
    "        cv.circle(Img_MRI2, center = (X_Corr, Y_Coor), radius = 2,\n",
    "                  color = (0, 0, 255), thickness = -1)"
   ]
  },
  {
   "cell_type": "code",
   "execution_count": 4,
   "metadata": {},
   "outputs": [],
   "source": [
    "def Select_seed(img):\n",
    "    cv.namedWindow('img')\n",
    "    cv.setMouseCallback('img', Event_Mouse)\n",
    "    cv.imshow('img', img)\n",
    "\n",
    "    while True :\n",
    "        cv.imshow('img', img)\n",
    "        if cv.waitKey(1) & 0xFF == ord('q') :\n",
    "            break\n",
    "    cv.destroyAllWindows()"
   ]
  },
  {
   "cell_type": "code",
   "execution_count": 5,
   "metadata": {},
   "outputs": [],
   "source": [
    "def joint_histogram(img1 , img2):\n",
    "    \n",
    "     fig = plt.figure()\n",
    "     ax = fig.add_subplot(111, projection='3d')\n",
    "     x = img1.ravel()\n",
    "     y = img2.ravel()\n",
    "     hist, xedges, yedges = np.histogram2d(x, y, bins=20, range=[[0, 255], [0, 255]], density=True)\n",
    "\n",
    "     xpos, ypos = np.meshgrid(xedges[:-1] + 0.25, yedges[:-1] + 0.25)\n",
    "     xpos = xpos.flatten('F')\n",
    "     ypos = ypos.flatten('F')\n",
    "     zpos = np.zeros_like(xpos)\n",
    "\n",
    "     dx =10* np.ones_like(zpos)\n",
    "     dy = dx.copy()\n",
    "     dz = hist.flatten()\n",
    "\n",
    "     ax.bar3d(xpos, ypos, zpos, dx, dy, dz, color='b', zsort='average', alpha=0.4)\n",
    "     ax.set_xlabel('img1')\n",
    "     ax.set_ylabel('img2')\n",
    "     plt.show()"
   ]
  },
  {
   "cell_type": "code",
   "execution_count": 6,
   "metadata": {},
   "outputs": [],
   "source": [
    "\n",
    "Img_MRI2 = cv.imread('Color_MRI2.png',0) #Image to be aligned\n",
    "Img_MRI = cv.imread('Color_MRI.png',0) #Reference image\n",
    "height, width = Img_MRI.shape\n",
    "seeds = []\n",
    "MRI_copy=Img_MRI.copy()\n",
    "MRI2_copy=Img_MRI2.copy()\n",
    "\n",
    "Select_seed(Img_MRI)\n",
    "Select_seed(Img_MRI2)\n",
    "\n",
    "Img_MRI_seeds = seeds[0:int(len(seeds)/2)]\n",
    "Img_MRI2_seeds = seeds[int(len(seeds)/2):len(seeds)]\n",
    "\n",
    "Img_MRI_seeds = np.float32(Img_MRI_seeds[:])\n",
    "Img_MRI2_seeds = np.float32(Img_MRI2_seeds[:])\n",
    "\n",
    "homography, mask = cv.findHomography(Img_MRI_seeds, Img_MRI2_seeds, cv.RANSAC)\n",
    "transformed_MRI2 = cv.warpPerspective(Img_MRI2, homography, (width, height))\n",
    "\n",
    "plt.subplot(1,3,1)\n",
    "plt.imshow(MRI_copy, cmap='gray', vmin = 0, vmax = 255)\n",
    "plt.axis('off')\n",
    "plt.title('Reference image')\n",
    "plt.subplot(1,3,2)\n",
    "plt.imshow(MRI2_copy, cmap='gray', vmin = 0, vmax = 255)\n",
    "plt.axis('off')\n",
    "plt.title('Image to be aligned')\n",
    "plt.subplot(1,3,3)\n",
    "plt.imshow(transformed_MRI2, cmap='gray', vmin = 0, vmax = 255)\n",
    "plt.axis('off')\n",
    "plt.title('aligned image')\n",
    "plt.tight_layout()\n",
    "plt.show()"
   ]
  },
  {
   "cell_type": "code",
   "execution_count": null,
   "metadata": {},
   "outputs": [],
   "source": [
    "joint_histogram(Img_MRI, Img_MRI2)\n",
    "joint_histogram(Img_MRI, transformed_MRI2)\n",
    "joint_histogram(Img_MRI, Img_MRI)\n"
   ]
  }
 ],
 "metadata": {
  "kernelspec": {
   "display_name": "Python 3",
   "language": "python",
   "name": "python3"
  },
  "language_info": {
   "codemirror_mode": {
    "name": "ipython",
    "version": 3
   },
   "file_extension": ".py",
   "mimetype": "text/x-python",
   "name": "python",
   "nbconvert_exporter": "python",
   "pygments_lexer": "ipython3",
   "version": "3.10.7 (tags/v3.10.7:6cc6b13, Sep  5 2022, 14:08:36) [MSC v.1933 64 bit (AMD64)]"
  },
  "orig_nbformat": 4,
  "vscode": {
   "interpreter": {
    "hash": "876db7d3f8682b7e4c5477e5f1e2dc2bd1b19fe05d9aabd59218369070754b39"
   }
  }
 },
 "nbformat": 4,
 "nbformat_minor": 2
}
