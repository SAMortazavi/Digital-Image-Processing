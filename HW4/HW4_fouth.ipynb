{
 "cells": [
  {
   "cell_type": "code",
   "execution_count": 1,
   "metadata": {},
   "outputs": [],
   "source": [
    "''''import required libraries'''\n",
    "import numpy as np\n",
    "from matplotlib import pyplot as plt\n",
    "import cv2 as cv\n",
    "from math import exp \n",
    "%matplotlib qt"
   ]
  },
  {
   "cell_type": "code",
   "execution_count": 14,
   "metadata": {},
   "outputs": [],
   "source": [
    "''''functions'''\n",
    "def center_img(img):\n",
    "    centered_img=np.zeros([img.shape[0],img.shape[1]])\n",
    "    for i in range(img.shape[0]):\n",
    "        for j in range(img.shape[1]):\n",
    "            centered_img[i,j]=img[i,j]*((-1)**(i+j))\n",
    "\n",
    "    return centered_img\n",
    "\n",
    "def ideal_fil(M,N,cut_fer):\n",
    "    H=np.zeros([M,N]).astype('float')\n",
    "    for u in range(M):\n",
    "        for v in range(N):\n",
    "            D=np.sqrt((u-M/2)**2+(v-N/2)**2)\n",
    "            if D>cut_fer:\n",
    "                H[u,v]=0\n",
    "            else :\n",
    "                H[u,v]=1\n",
    "    return H\n",
    "def butter_fil(M,N,n,cut_fer):\n",
    "    H=np.zeros([M,N]).astype('float')\n",
    "    for u in range(M):\n",
    "        for v in range(N):\n",
    "            D=np.sqrt((u-M/2)**2+(v-N/2)**2)\n",
    "            H[u,v]=1/(1+pow((D/cut_fer),2*n))\n",
    "    return H\n",
    "def Gaussian_fil(M,N,cut_fer):\n",
    "    H=np.zeros([M,N]).astype('float')\n",
    "    for u in range(M):\n",
    "        for v in range(N):\n",
    "            D=np.sqrt((u-M/2)**2+(v-N/2)**2)\n",
    "            H[u,v]=exp((-1*pow(D,2))/(2*pow(cut_fer,2)))\n",
    "    return H\n",
    "\n"
   ]
  },
  {
   "cell_type": "code",
   "execution_count": 17,
   "metadata": {},
   "outputs": [],
   "source": [
    "'''freqeuncy domain'''\n",
    "\n",
    "shoulder_img=cv.imread('shoulder.jpg',0)\n",
    "\n",
    "zero_pad_matrix=np.zeros([2048,2048])\n",
    "\n",
    "zero_pad_matrix[0:1024,0:1024]=shoulder_img\n",
    "\n",
    "zero_pad_shoulder=zero_pad_matrix\n",
    "\n",
    "centered_shoulder=center_img(zero_pad_shoulder)\n",
    "\n",
    "shoulder_img_dft=np.fft.fft2(centered_shoulder)\n",
    "\n",
    "\n",
    "\n",
    "'''filters'''\n",
    "row,col=shoulder_img.shape\n",
    "ideal_HP_30=1-ideal_fil(2*row,2*col,30)\n",
    "ideal_HP_100=1-ideal_fil(2*row,2*col,100)\n",
    "\n",
    "butter_HP_30=1-butter_fil(2*row,2*col,2,30)\n",
    "butter_HP_100=1-butter_fil(2*row,2*col,2,100)\n",
    "\n",
    "gaussian_HP_30=1-Gaussian_fil(2*row,2*col,30)\n",
    "gaussian_HP_100=1-Gaussian_fil(2*row,2*col,100)"
   ]
  },
  {
   "cell_type": "code",
   "execution_count": 19,
   "metadata": {},
   "outputs": [],
   "source": [
    "'''filtering image'''\n",
    "image_ideal_30=ideal_HP_30*shoulder_img_dft\n",
    "image_ideal_100=ideal_HP_100*shoulder_img_dft\n",
    "\n",
    "image_butter_30=butter_HP_30*shoulder_img_dft\n",
    "image_butter_100=butter_HP_100*shoulder_img_dft\n",
    "\n",
    "image_gauss_30=gaussian_HP_30*shoulder_img_dft\n",
    "image_gauss_100=gaussian_HP_100*shoulder_img_dft\n",
    "\n",
    "'''ifft'''\n",
    "'''ideal'''\n",
    "\n",
    "shoulder_IHP_30=np.fft.ifft2(image_ideal_30)\n",
    "# shoulder_IHP_30=center_img(abs(shoulder_IHP_30))\n",
    "shoulder_IHP_30_show=np.abs(shoulder_IHP_30)\n",
    "shoulder_IHP_30_show=shoulder_IHP_30_show[0:1024,0:1024]\n",
    "\n",
    "shoulder_IHP_100=np.fft.ifft2(image_ideal_100)\n",
    "# shoulder_IHP_100=center_img(abs(shoulder_IHP_100))\n",
    "shoulder_IHP_100_show=np.abs(shoulder_IHP_100)\n",
    "shoulder_IHP_100_show=shoulder_IHP_100_show[0:1024,0:1024]\n",
    "\n",
    "'''butterworth'''\n",
    "\n",
    "shoulder_BHP_30=np.fft.ifft2(image_butter_30)\n",
    "# shoulder_BHP_30=center_img(abs(shoulder_BHP_30))\n",
    "shoulder_BHP_30_show=np.abs(shoulder_BHP_30)\n",
    "shoulder_BHP_30_show=shoulder_BHP_30_show[0:1024,0:1024]\n",
    "\n",
    "shoulder_BHP_100=np.fft.ifft2(image_butter_100)\n",
    "# shoulder_BHP_100=center_img(abs(shoulder_BHP_100))\n",
    "shoulder_BHP_100_show=np.abs(shoulder_BHP_100)\n",
    "shoulder_BHP_100_show=shoulder_BHP_100_show[0:1024,0:1024]\n",
    "\n",
    "'''gaussian'''\n",
    "\n",
    "shoulder_GHP_30=np.fft.ifft2(image_gauss_30)\n",
    "# shoulder_GHP_30=center_img(abs(shoulder_GHP_30))\n",
    "shoulder_GHP_30_show=np.abs(shoulder_GHP_30)\n",
    "shoulder_GHP_30_show=shoulder_GHP_30_show[0:1024,0:1024]\n",
    "\n",
    "shoulder_GHP_100=np.fft.ifft2(image_gauss_100)\n",
    "# shoulder_GHP_100=center_img(abs(shoulder_GHP_100))\n",
    "shoulder_GHP_100_show=np.abs(shoulder_GHP_100)\n",
    "shoulder_GHP_100_show=shoulder_GHP_100_show[0:1024,0:1024]"
   ]
  },
  {
   "cell_type": "code",
   "execution_count": 20,
   "metadata": {},
   "outputs": [
    {
     "data": {
      "text/plain": [
       "<matplotlib.image.AxesImage at 0x2a009956950>"
      ]
     },
     "execution_count": 20,
     "metadata": {},
     "output_type": "execute_result"
    }
   ],
   "source": [
    "plt.figure()\n",
    "plt.subplot(2,3,1)\n",
    "plt.title('Ideal 30')\n",
    "plt.imshow(shoulder_IHP_30_show,'gray')\n",
    "plt.subplot(2,3,2)\n",
    "plt.title('Butterworth 30')\n",
    "plt.imshow(shoulder_BHP_30_show,'gray')\n",
    "plt.subplot(2,3,3)\n",
    "plt.title('Gaussian 30')\n",
    "plt.imshow(shoulder_GHP_30_show,'gray')\n",
    "plt.subplot(2,3,4)\n",
    "plt.title('Ideal 100')\n",
    "plt.imshow(shoulder_IHP_100_show,'gray')\n",
    "plt.subplot(2,3,5)\n",
    "plt.title('Butterworth 100')\n",
    "plt.imshow(shoulder_BHP_100_show,'gray')\n",
    "plt.subplot(2,3,6)\n",
    "plt.title('Gaussian 100')\n",
    "plt.imshow(shoulder_GHP_100_show,'gray')\n"
   ]
  }
 ],
 "metadata": {
  "kernelspec": {
   "display_name": "Python 3",
   "language": "python",
   "name": "python3"
  },
  "language_info": {
   "codemirror_mode": {
    "name": "ipython",
    "version": 3
   },
   "file_extension": ".py",
   "mimetype": "text/x-python",
   "name": "python",
   "nbconvert_exporter": "python",
   "pygments_lexer": "ipython3",
   "version": "3.10.7 (tags/v3.10.7:6cc6b13, Sep  5 2022, 14:08:36) [MSC v.1933 64 bit (AMD64)]"
  },
  "orig_nbformat": 4,
  "vscode": {
   "interpreter": {
    "hash": "876db7d3f8682b7e4c5477e5f1e2dc2bd1b19fe05d9aabd59218369070754b39"
   }
  }
 },
 "nbformat": 4,
 "nbformat_minor": 2
}
