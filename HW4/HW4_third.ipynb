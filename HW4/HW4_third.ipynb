{
 "cells": [
  {
   "cell_type": "code",
   "execution_count": 1,
   "metadata": {},
   "outputs": [],
   "source": [
    "import numpy as np\n",
    "from matplotlib import pyplot as plt\n",
    "import cv2 as cv\n",
    "%matplotlib qt\n",
    "#--------------------------------------------------\n",
    "#a\n",
    "created_img=np.zeros([200,200]).astype('uint8')\n",
    "created_img[80:120,60:140]=255\n",
    "#b\n",
    "\n",
    "\n",
    "\n",
    "tranlate_matrix_x=np.float32(([1,0,20],[0,1,0]))\n",
    "translated_img_x=cv.warpAffine(created_img,tranlate_matrix_x,(200,200))\n",
    "tranlate_matrix_y=np.float32(([1,0,0],[0,1,-40]))\n",
    "translated_img_y=cv.warpAffine(created_img,tranlate_matrix_y,(200,200))\n",
    "rotate_matrix_30=cv.getRotationMatrix2D((100,100), 30, 1.0)\n",
    "rotated_img_30=cv.warpAffine(created_img, rotate_matrix_30, (200,200))\n",
    "rotate_matrix_90=cv.getRotationMatrix2D((100,100), 90, 1.0)\n",
    "rotated_img_90=cv.warpAffine(created_img, rotate_matrix_90, (200,200))\n",
    "\n",
    "\n",
    "#c\n",
    "real_img_dft=np.fft.fft2(created_img)\n",
    "real_img_dft=np.fft.fftshift(real_img_dft)\n",
    "real_img_phase=np.angle(real_img_dft)\n",
    "\n",
    "\n",
    "trx_img_dft=np.fft.fft2(translated_img_x)\n",
    "trx_img_dft=np.fft.fftshift(trx_img_dft)\n",
    "trx_img_phase=np.angle(trx_img_dft)\n",
    "\n",
    "\n",
    "try_img_dft=np.fft.fft2(translated_img_y)\n",
    "try_img_dft=np.fft.fftshift(try_img_dft)\n",
    "try_img_phase=np.angle(try_img_dft)\n",
    "\n",
    "rot30_img_dft=np.fft.fft2(rotated_img_30)\n",
    "rot30_img_dft=np.fft.fftshift(rot30_img_dft)\n",
    "rot30_img_phase=np.angle(rot30_img_dft)\n",
    "\n",
    "\n",
    "rot90_img_dft=np.fft.fft2(rotated_img_90)\n",
    "rot90_img_dft=np.fft.fftshift(rot90_img_dft)\n",
    "rot90_img_phase=np.angle(rot90_img_dft)\n"
   ]
  },
  {
   "cell_type": "code",
   "execution_count": 2,
   "metadata": {},
   "outputs": [
    {
     "data": {
      "text/plain": [
       "Text(0.5, 1.0, 'rotated90 Phase')"
      ]
     },
     "execution_count": 2,
     "metadata": {},
     "output_type": "execute_result"
    }
   ],
   "source": [
    "'plots'\n",
    "\n",
    "plt.close()\n",
    "plt.figure('real image',figsize=(8,10))\n",
    "plt.subplot(1,3,1)\n",
    "plt.imshow(created_img,'gray')\n",
    "plt.title('Real image')\n",
    "plt.subplot(1,3,2)\n",
    "plt.imshow(np.log1p(np.abs(real_img_dft)),'gray')\n",
    "plt.title('Real image DFT')\n",
    "plt.subplot(1,3,3)\n",
    "plt.imshow(real_img_phase,'gray')\n",
    "plt.title('Real image Phase')\n",
    "\n",
    "\n",
    "plt.figure('translate X',figsize=(8,10))\n",
    "plt.subplot(1,3,1)\n",
    "plt.imshow(translated_img_x,'gray')\n",
    "plt.title('translated X image')\n",
    "plt.subplot(1,3,2)\n",
    "plt.imshow(np.log1p(np.abs(trx_img_dft)),'gray')\n",
    "plt.title('translated X DFT')\n",
    "plt.subplot(1,3,3)\n",
    "plt.imshow(trx_img_phase,'gray')\n",
    "plt.title('translated X Phase')\n",
    "\n",
    "\n",
    "plt.figure('translate Y',figsize=(8,10))\n",
    "plt.subplot(1,3,1)\n",
    "plt.imshow(translated_img_y,'gray')\n",
    "plt.title('translated Y image')\n",
    "plt.subplot(1,3,2)\n",
    "plt.imshow(np.log1p(np.abs(trx_img_dft)),'gray')\n",
    "plt.title('translated Y DFT')\n",
    "plt.subplot(1,3,3)\n",
    "plt.imshow(trx_img_phase,'gray')\n",
    "plt.title('translated Y Phase')\n",
    "\n",
    "\n",
    "plt.figure('rotation30',figsize=(8,10))\n",
    "plt.subplot(1,3,1)\n",
    "plt.imshow(rotated_img_30,'gray')\n",
    "plt.title('rotated30 image')\n",
    "plt.subplot(1,3,2)\n",
    "plt.imshow(np.log1p(np.abs(rot30_img_dft)),'gray')\n",
    "plt.title('rotated30 DFT')\n",
    "plt.subplot(1,3,3)\n",
    "plt.imshow(rot30_img_phase,'gray')\n",
    "plt.title('rotated30 Phase')\n",
    "\n",
    "plt.figure('rotation90',figsize=(8,10))\n",
    "plt.subplot(1,3,1)\n",
    "plt.imshow(rotated_img_90,'gray')\n",
    "plt.title('rotated90 image')\n",
    "plt.subplot(1,3,2)\n",
    "plt.imshow(np.log1p(np.abs(rot90_img_dft)),'gray')\n",
    "plt.title('rotated90 DFT')\n",
    "plt.subplot(1,3,3)\n",
    "plt.imshow(rot90_img_phase,'gray')\n",
    "plt.title('rotated90 Phase')"
   ]
  },
  {
   "cell_type": "code",
   "execution_count": 2,
   "metadata": {},
   "outputs": [
    {
     "data": {
      "text/plain": [
       "Text(0.5, 1.0, 'Col 0')"
      ]
     },
     "execution_count": 2,
     "metadata": {},
     "output_type": "execute_result"
    }
   ],
   "source": [
    "'''D'''\n",
    "real_img_row0=np.abs(real_img_dft[0])\n",
    "real_img_col0=np.abs(real_img_dft[:,0])\n",
    "plt.figure('Row and Col')\n",
    "plt.subplot(1,2,1)\n",
    "plt.plot(real_img_row0)\n",
    "plt.title('Row 0')\n",
    "plt.subplot(1,2,2)\n",
    "plt.plot(real_img_col0)\n",
    "plt.title('Col 0')"
   ]
  },
  {
   "cell_type": "code",
   "execution_count": 7,
   "metadata": {},
   "outputs": [],
   "source": [
    "'''MetaCarpal IMG'''\n",
    "\n",
    "meta_img=cv.imread('metacarpal.png',0)\n",
    "meta_fft=np.fft.fft2(meta_img)\n",
    "meta_fft=np.fft.fftshift(meta_fft)\n",
    "\n",
    "meta_fft_max=abs(meta_fft[0:200,0:200])\n",
    "meta_fft_max=list(meta_fft_max)\n",
    "max_val=0\n",
    "max_cor=(0,0)\n",
    "for i in range(200):\n",
    "\n",
    "    if max(meta_fft_max[i])>max_val:\n",
    "        max_val=max(meta_fft_max[i])\n",
    "        max_cor=(i,list(meta_fft_max[i]).index(max(meta_fft_max[i])))\n",
    "cor_x,cor_y=max_cor\n",
    "# meta_fft[cor_x,cor_y]=0\n",
    "# meta_fft[642-cor_x,cor_y]=0\n",
    "\n",
    "\n",
    "reformed_img=np.fft.ifftshift(meta_fft)\n",
    "reformed_img=abs(np.fft.ifft2(reformed_img))\n",
    "\n",
    "\n",
    "R_non_rot=reformed_img[318:338,230:250]\n",
    "R_non_rot_dft=np.fft.fft2(R_non_rot)\n",
    "R_non_rot_dft=np.fft.fftshift(R_non_rot_dft)\n",
    "\n",
    "R_rot_dft=R_non_rot_dft[20::-1,20::-1]\n",
    "\n",
    "R_rot=np.fft.ifftshift(R_rot_dft)\n",
    "R_rot=abs(np.fft.ifft2(R_rot))\n",
    "\n",
    "reformed_img[318:338,230:250]=R_rot\n",
    "\n",
    "\n",
    "reformed_img_dft=np.fft.fft2(reformed_img)\n",
    "reformed_img_dft=np.log1p(np.abs(np.fft.fftshift(reformed_img_dft)))\n"
   ]
  },
  {
   "cell_type": "code",
   "execution_count": 7,
   "metadata": {},
   "outputs": [
    {
     "data": {
      "text/plain": [
       "Text(0.5, 1.0, 'dft of reformed image')"
      ]
     },
     "execution_count": 7,
     "metadata": {},
     "output_type": "execute_result"
    }
   ],
   "source": [
    "'''''Plots'''\n",
    "# list(meta_fft_max[1])\n",
    "# plt.figure('Reformed Image')\n",
    "# plt.imshow(reformed_img,'gray')\n",
    "\n",
    "plt.figure('MetaCarpal image',figsize=(10,10))\n",
    "plt.subplot(1,3,1)\n",
    "plt.imshow(meta_img,'gray')\n",
    "plt.title('metacarpal image')\n",
    "plt.subplot(1,3,2)\n",
    "plt.imshow(reformed_img,'gray')\n",
    "plt.title('reformed image',)\n",
    "plt.subplot(1,3,3)\n",
    "plt.imshow(reformed_img_dft,'gray')\n",
    "plt.title('dft of reformed image')"
   ]
  }
 ],
 "metadata": {
  "kernelspec": {
   "display_name": "Python 3",
   "language": "python",
   "name": "python3"
  },
  "language_info": {
   "codemirror_mode": {
    "name": "ipython",
    "version": 3
   },
   "file_extension": ".py",
   "mimetype": "text/x-python",
   "name": "python",
   "nbconvert_exporter": "python",
   "pygments_lexer": "ipython3",
   "version": "3.10.7 (tags/v3.10.7:6cc6b13, Sep  5 2022, 14:08:36) [MSC v.1933 64 bit (AMD64)]"
  },
  "orig_nbformat": 4,
  "vscode": {
   "interpreter": {
    "hash": "876db7d3f8682b7e4c5477e5f1e2dc2bd1b19fe05d9aabd59218369070754b39"
   }
  }
 },
 "nbformat": 4,
 "nbformat_minor": 2
}
