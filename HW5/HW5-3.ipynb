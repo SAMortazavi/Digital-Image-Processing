{
 "cells": [
  {
   "cell_type": "code",
   "execution_count": 2,
   "metadata": {},
   "outputs": [],
   "source": [
    "import numpy as np\n",
    "import cv2 as cv\n",
    "from matplotlib import pyplot as plt\n",
    "%matplotlib qt"
   ]
  },
  {
   "cell_type": "code",
   "execution_count": 1,
   "metadata": {},
   "outputs": [],
   "source": [
    "def adaptive_filter(img2,ker):\n",
    "    img=img2.copy()\n",
    "    var_noise_l=[]\n",
    "    for i in range(img.shape[0]-ker):\n",
    "        for j in range(img.shape[1]-ker):\n",
    "            window=img[i:i+ker,j:j+ker]\n",
    "            var_noise_l.append(np.var(window))\n",
    "    var_noise=np.mean(np.array(var_noise_l))\n",
    "        \n",
    "    img_paded=np.pad(img,int(ker/2))\n",
    "\n",
    "    for i in range(img.shape[0]):\n",
    "        for j in range(img.shape[1]):\n",
    "            window_2=img_paded[i:i+ker,j:j+ker]\n",
    "            var_window=np.var(window_2)\n",
    "            mean_window=np.mean(window_2) \n",
    "            img[i,j]=img[i,j]-var_noise/var_window*(img[i,j]-mean_window)    \n",
    "    return img.astype('uint8')\n"
   ]
  },
  {
   "cell_type": "code",
   "execution_count": 12,
   "metadata": {},
   "outputs": [],
   "source": [
    "MRI_Noisy=cv.imread('MRI_Noisy.png',0)\n",
    "Sample_MRI=np.zeros([10,260])\n",
    "Sample_MRI=MRI_Noisy[40:50,40:300]\n",
    "Sample_MRI2=MRI_Noisy[0:30,0:300]\n",
    "plt.figure()\n",
    "plt.subplot(1,2,1)\n",
    "plt.title('White part Noise')\n",
    "MRI_hist=plt.hist(Sample_MRI2)\n",
    "plt.subplot(1,2,2)\n",
    "plt.title('Black part Noise')\n",
    "MRI_hist2=plt.hist(Sample_MRI)\n"
   ]
  },
  {
   "cell_type": "code",
   "execution_count": 4,
   "metadata": {},
   "outputs": [],
   "source": [
    "Dental_Noisy=cv.imread('DentalXray_Noisy.png',0)\n",
    "adaptive_filtered_img=adaptive_filter(Dental_Noisy,7)\n",
    "ker=np.ones((7,7),np.uint8)/49\n",
    "blur_img=cv.filter2D(Dental_Noisy,-1,ker)\n"
   ]
  },
  {
   "cell_type": "code",
   "execution_count": 13,
   "metadata": {},
   "outputs": [
    {
     "data": {
      "text/plain": [
       "Text(0.5, 1.0, 'blur hist')"
      ]
     },
     "execution_count": 13,
     "metadata": {},
     "output_type": "execute_result"
    }
   ],
   "source": [
    "plt.figure(figsize=(8,10))\n",
    "plt.subplot(2,3,1)\n",
    "plt.imshow(Dental_Noisy,'gray')\n",
    "plt.title('real image')\n",
    "plt.subplot(2,3,2)\n",
    "plt.imshow(adaptive_filtered_img,'gray')\n",
    "plt.title('adaptive filtered image')\n",
    "plt.subplot(2,3,3)\n",
    "plt.imshow(blur_img,'gray')\n",
    "plt.title('average image')\n",
    "plt.subplot(2,3,4)\n",
    "dental_hist=plt.hist(Dental_Noisy)\n",
    "plt.title('dental hist')\n",
    "plt.subplot(2,3,5)\n",
    "adap_hist=plt.hist(adaptive_filtered_img)\n",
    "plt.title('adapt hist')\n",
    "plt.subplot(2,3,6)\n",
    "blur_hist=plt.hist(blur_img)\n",
    "plt.title('blur hist')"
   ]
  }
 ],
 "metadata": {
  "kernelspec": {
   "display_name": "Python 3",
   "language": "python",
   "name": "python3"
  },
  "language_info": {
   "codemirror_mode": {
    "name": "ipython",
    "version": 3
   },
   "file_extension": ".py",
   "mimetype": "text/x-python",
   "name": "python",
   "nbconvert_exporter": "python",
   "pygments_lexer": "ipython3",
   "version": "3.10.7 (tags/v3.10.7:6cc6b13, Sep  5 2022, 14:08:36) [MSC v.1933 64 bit (AMD64)]"
  },
  "orig_nbformat": 4,
  "vscode": {
   "interpreter": {
    "hash": "876db7d3f8682b7e4c5477e5f1e2dc2bd1b19fe05d9aabd59218369070754b39"
   }
  }
 },
 "nbformat": 4,
 "nbformat_minor": 2
}
