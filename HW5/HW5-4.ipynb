{
 "cells": [
  {
   "cell_type": "code",
   "execution_count": 1,
   "metadata": {},
   "outputs": [],
   "source": [
    "import cv2\n",
    "import numpy as np\n",
    "import matplotlib.pyplot as plt\n",
    "from numpy import diff\n",
    "%matplotlib qt"
   ]
  },
  {
   "cell_type": "code",
   "execution_count": 2,
   "metadata": {},
   "outputs": [],
   "source": [
    "def morpho_diff(img,img2):\n",
    "    A=255*np.ones([img2.shape[0],img2.shape[1]])\n",
    "    mor_diff_img=np.zeros([img.shape[0],img.shape[1]]).astype('uint8')\n",
    "    img2c=A-img2\n",
    "    for i in range(img.shape[0]):\n",
    "        for j in range(img.shape[1]):\n",
    "            if img[i,j] ==255 and img2c[i,j]==255:\n",
    "                mor_diff_img[i,j]=255\n",
    "\n",
    "        \n",
    "    return mor_diff_img"
   ]
  },
  {
   "cell_type": "code",
   "execution_count": 3,
   "metadata": {},
   "outputs": [],
   "source": [
    "\n",
    "Blobs_img = cv2.imread('Blobs.png', 0)\n",
    "img4_1 = cv2.imread('4_1.png', 0)\n",
    "chopper_img=cv2.imread('chopper.png',0)"
   ]
  },
  {
   "cell_type": "code",
   "execution_count": 4,
   "metadata": {},
   "outputs": [],
   "source": [
    "kernel = np.ones((3,3), np.uint8)\n",
    "kernel2 = np.ones((100,100), np.uint8)\n",
    "kernel3 = cv2.getStructuringElement(cv2.MORPH_ELLIPSE,(50,50))\n",
    "kernel4 = cv2.getStructuringElement(cv2.MORPH_ELLIPSE,(95,95))"
   ]
  },
  {
   "cell_type": "code",
   "execution_count": 5,
   "metadata": {},
   "outputs": [
    {
     "data": {
      "text/plain": [
       "<matplotlib.image.AxesImage at 0x2a599755bd0>"
      ]
     },
     "execution_count": 5,
     "metadata": {},
     "output_type": "execute_result"
    }
   ],
   "source": [
    "img_dilation = cv2.dilate(img4_1, kernel2, iterations=1)\n",
    "img_erosion = cv2.erode(img_dilation, kernel, iterations=1)\n",
    "final_image  = img_dilation - img_erosion\n",
    "plt.figure()\n",
    "plt.imshow(final_image,'gray')"
   ]
  },
  {
   "cell_type": "code",
   "execution_count": 6,
   "metadata": {},
   "outputs": [
    {
     "data": {
      "text/plain": [
       "<matplotlib.image.AxesImage at 0x2a59d3ea260>"
      ]
     },
     "execution_count": 6,
     "metadata": {},
     "output_type": "execute_result"
    }
   ],
   "source": [
    "morph=morpho_diff(img4_1,chopper_img)\n",
    "plt.figure()\n",
    "plt.subplot(1,2,1)\n",
    "plt.imshow(img4_1-chopper_img,'gray')\n",
    "plt.subplot(1,2,2)\n",
    "plt.imshow(morph,'gray')"
   ]
  },
  {
   "cell_type": "code",
   "execution_count": 7,
   "metadata": {},
   "outputs": [
    {
     "data": {
      "text/plain": [
       "<matplotlib.image.AxesImage at 0x2a5999471c0>"
      ]
     },
     "execution_count": 7,
     "metadata": {},
     "output_type": "execute_result"
    }
   ],
   "source": [
    "closing = cv2.morphologyEx(Blobs_img, cv2.MORPH_CLOSE, kernel3)\n",
    "opening = cv2.morphologyEx(closing, cv2.MORPH_OPEN,kernel4)\n",
    "img_dilation = cv2.dilate(opening, kernel, iterations=1)\n",
    "img_erosion = cv2.erode(opening, kernel, iterations=1)\n",
    "finalimg = img_dilation - img_erosion\n",
    "Blobs_det =Blobs_img +finalimg \n",
    "plt.figure()\n",
    "plt.imshow(Blobs_det,'gray')"
   ]
  },
  {
   "cell_type": "code",
   "execution_count": 8,
   "metadata": {},
   "outputs": [
    {
     "data": {
      "text/plain": [
       "[<matplotlib.lines.Line2D at 0x2a599c035e0>]"
      ]
     },
     "execution_count": 8,
     "metadata": {},
     "output_type": "execute_result"
    }
   ],
   "source": [
    "list = []\n",
    "y1 = range(1,5)\n",
    "i=1\n",
    "plt.figure()\n",
    "for k in [10,40,50,80]:\n",
    "    circlekernel = cv2.getStructuringElement(cv2.MORPH_ELLIPSE,(k,k))\n",
    "    opening = cv2.morphologyEx(Blobs_img, cv2.MORPH_OPEN,circlekernel)\n",
    "    plt.subplot(2,2,i)\n",
    "    plt.imshow(opening,'gray')\n",
    "    plt.title(f'{i}th stage')\n",
    "    current = np.float64(opening.sum())\n",
    "    list.append(current)\n",
    "    i+=1\n",
    "difflist = [0]\n",
    "k= 0 \n",
    "for i in list:\n",
    "    if(k!=0):\n",
    "        diffrence =  np.abs( i - list[k-1])\n",
    "        difflist.append(diffrence)    \n",
    "    k = k+1\n",
    "plt.figure()\n",
    "plt.plot(y1,difflist, label = \"line 1\")\n"
   ]
  }
 ],
 "metadata": {
  "kernelspec": {
   "display_name": "Python 3",
   "language": "python",
   "name": "python3"
  },
  "language_info": {
   "codemirror_mode": {
    "name": "ipython",
    "version": 3
   },
   "file_extension": ".py",
   "mimetype": "text/x-python",
   "name": "python",
   "nbconvert_exporter": "python",
   "pygments_lexer": "ipython3",
   "version": "3.10.7 (tags/v3.10.7:6cc6b13, Sep  5 2022, 14:08:36) [MSC v.1933 64 bit (AMD64)]"
  },
  "orig_nbformat": 4,
  "vscode": {
   "interpreter": {
    "hash": "876db7d3f8682b7e4c5477e5f1e2dc2bd1b19fe05d9aabd59218369070754b39"
   }
  }
 },
 "nbformat": 4,
 "nbformat_minor": 2
}
